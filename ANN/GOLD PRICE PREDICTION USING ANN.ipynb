{
 "cells": [
  {
   "cell_type": "code",
   "execution_count": 1,
   "id": "73d16739",
   "metadata": {},
   "outputs": [],
   "source": [
    "import pandas as pd\n",
    "import numpy as np\n",
    "from sklearn.model_selection import train_test_split\n",
    "from sklearn.preprocessing import StandardScaler\n",
    "from sklearn.preprocessing import MinMaxScaler"
   ]
  },
  {
   "cell_type": "code",
   "execution_count": 2,
   "id": "db39ce50",
   "metadata": {},
   "outputs": [],
   "source": [
    "import tensorflow as tf\n",
    "from tensorflow import keras\n",
    "from tensorflow.keras import Sequential\n",
    "from tensorflow.keras.layers import Dense"
   ]
  },
  {
   "cell_type": "code",
   "execution_count": 3,
   "id": "df9824e2",
   "metadata": {},
   "outputs": [],
   "source": [
    "df = pd.read_csv(\"gld_price_data.csv\")"
   ]
  },
  {
   "cell_type": "code",
   "execution_count": 4,
   "id": "25471230",
   "metadata": {},
   "outputs": [
    {
     "data": {
      "text/html": [
       "<div>\n",
       "<style scoped>\n",
       "    .dataframe tbody tr th:only-of-type {\n",
       "        vertical-align: middle;\n",
       "    }\n",
       "\n",
       "    .dataframe tbody tr th {\n",
       "        vertical-align: top;\n",
       "    }\n",
       "\n",
       "    .dataframe thead th {\n",
       "        text-align: right;\n",
       "    }\n",
       "</style>\n",
       "<table border=\"1\" class=\"dataframe\">\n",
       "  <thead>\n",
       "    <tr style=\"text-align: right;\">\n",
       "      <th></th>\n",
       "      <th>Date</th>\n",
       "      <th>SPX</th>\n",
       "      <th>GLD</th>\n",
       "      <th>USO</th>\n",
       "      <th>SLV</th>\n",
       "      <th>EUR/USD</th>\n",
       "    </tr>\n",
       "  </thead>\n",
       "  <tbody>\n",
       "    <tr>\n",
       "      <th>0</th>\n",
       "      <td>01/02/08</td>\n",
       "      <td>1447.160034</td>\n",
       "      <td>84.860001</td>\n",
       "      <td>78.470001</td>\n",
       "      <td>15.180</td>\n",
       "      <td>1.471692</td>\n",
       "    </tr>\n",
       "    <tr>\n",
       "      <th>1</th>\n",
       "      <td>01/03/08</td>\n",
       "      <td>1447.160034</td>\n",
       "      <td>85.570000</td>\n",
       "      <td>78.370003</td>\n",
       "      <td>15.285</td>\n",
       "      <td>1.474491</td>\n",
       "    </tr>\n",
       "    <tr>\n",
       "      <th>2</th>\n",
       "      <td>01/04/08</td>\n",
       "      <td>1411.630005</td>\n",
       "      <td>85.129997</td>\n",
       "      <td>77.309998</td>\n",
       "      <td>15.167</td>\n",
       "      <td>1.475492</td>\n",
       "    </tr>\n",
       "    <tr>\n",
       "      <th>3</th>\n",
       "      <td>01/07/08</td>\n",
       "      <td>1416.180054</td>\n",
       "      <td>84.769997</td>\n",
       "      <td>75.500000</td>\n",
       "      <td>15.053</td>\n",
       "      <td>1.468299</td>\n",
       "    </tr>\n",
       "    <tr>\n",
       "      <th>4</th>\n",
       "      <td>01/08/08</td>\n",
       "      <td>1390.189941</td>\n",
       "      <td>86.779999</td>\n",
       "      <td>76.059998</td>\n",
       "      <td>15.590</td>\n",
       "      <td>1.557099</td>\n",
       "    </tr>\n",
       "  </tbody>\n",
       "</table>\n",
       "</div>"
      ],
      "text/plain": [
       "       Date          SPX        GLD        USO     SLV   EUR/USD\n",
       "0  01/02/08  1447.160034  84.860001  78.470001  15.180  1.471692\n",
       "1  01/03/08  1447.160034  85.570000  78.370003  15.285  1.474491\n",
       "2  01/04/08  1411.630005  85.129997  77.309998  15.167  1.475492\n",
       "3  01/07/08  1416.180054  84.769997  75.500000  15.053  1.468299\n",
       "4  01/08/08  1390.189941  86.779999  76.059998  15.590  1.557099"
      ]
     },
     "execution_count": 4,
     "metadata": {},
     "output_type": "execute_result"
    }
   ],
   "source": [
    "df.head()"
   ]
  },
  {
   "cell_type": "code",
   "execution_count": 5,
   "id": "9c6abae9",
   "metadata": {},
   "outputs": [],
   "source": [
    "X = df[['SPX','USO','SLV','EUR/USD']]\n",
    "y = df['GLD']"
   ]
  },
  {
   "cell_type": "code",
   "execution_count": 6,
   "id": "e590cad3",
   "metadata": {},
   "outputs": [],
   "source": [
    "X_train,X_test,y_train,y_test = train_test_split(X,y,test_size=0.2)"
   ]
  },
  {
   "cell_type": "code",
   "execution_count": 7,
   "id": "b9925c28",
   "metadata": {},
   "outputs": [],
   "source": [
    "scaler = MinMaxScaler()"
   ]
  },
  {
   "cell_type": "code",
   "execution_count": 8,
   "id": "bc853665",
   "metadata": {},
   "outputs": [],
   "source": [
    "X_train_scaled = scaler.fit_transform(X_train)\n",
    "X_test_scaled = scaler.transform(X_test)"
   ]
  },
  {
   "cell_type": "code",
   "execution_count": 9,
   "id": "513aeb22",
   "metadata": {},
   "outputs": [],
   "source": [
    "model = Sequential()"
   ]
  },
  {
   "cell_type": "code",
   "execution_count": 10,
   "id": "a35caba2",
   "metadata": {},
   "outputs": [],
   "source": [
    "model.add(Dense(10,activation='relu',input_dim=4))\n",
    "model.add(Dense(10,activation='relu'))\n",
    "model.add(Dense(1,activation='linear'))"
   ]
  },
  {
   "cell_type": "code",
   "execution_count": 11,
   "id": "c0f010ce",
   "metadata": {},
   "outputs": [],
   "source": [
    "model.compile(loss=\"mean_squared_error\",optimizer='Adam')"
   ]
  },
  {
   "cell_type": "code",
   "execution_count": 12,
   "id": "51b3f65a",
   "metadata": {},
   "outputs": [
    {
     "name": "stdout",
     "output_type": "stream",
     "text": [
      "Epoch 1/50\n",
      "52/52 [==============================] - 1s 7ms/step - loss: 15462.3096 - val_loss: 14806.1289\n",
      "Epoch 2/50\n",
      "52/52 [==============================] - 0s 3ms/step - loss: 15180.1953 - val_loss: 14389.1260\n",
      "Epoch 3/50\n",
      "52/52 [==============================] - 0s 3ms/step - loss: 14535.1201 - val_loss: 13494.4346\n",
      "Epoch 4/50\n",
      "52/52 [==============================] - 0s 3ms/step - loss: 13333.9551 - val_loss: 12004.4502\n",
      "Epoch 5/50\n",
      "52/52 [==============================] - 0s 3ms/step - loss: 11523.2285 - val_loss: 9939.0996\n",
      "Epoch 6/50\n",
      "52/52 [==============================] - 0s 3ms/step - loss: 9189.5908 - val_loss: 7479.5405\n",
      "Epoch 7/50\n",
      "52/52 [==============================] - 0s 3ms/step - loss: 6602.3916 - val_loss: 5003.2158\n",
      "Epoch 8/50\n",
      "52/52 [==============================] - 0s 3ms/step - loss: 4186.3965 - val_loss: 2940.5540\n",
      "Epoch 9/50\n",
      "52/52 [==============================] - 0s 3ms/step - loss: 2336.6392 - val_loss: 1598.4167\n",
      "Epoch 10/50\n",
      "52/52 [==============================] - 0s 3ms/step - loss: 1234.1334 - val_loss: 960.7116\n",
      "Epoch 11/50\n",
      "52/52 [==============================] - 0s 3ms/step - loss: 739.3983 - val_loss: 762.0822\n",
      "Epoch 12/50\n",
      "52/52 [==============================] - 0s 3ms/step - loss: 573.0395 - val_loss: 715.4362\n",
      "Epoch 13/50\n",
      "52/52 [==============================] - 0s 3ms/step - loss: 522.0002 - val_loss: 697.1937\n",
      "Epoch 14/50\n",
      "52/52 [==============================] - 0s 3ms/step - loss: 499.0129 - val_loss: 679.6686\n",
      "Epoch 15/50\n",
      "52/52 [==============================] - 0s 3ms/step - loss: 481.7242 - val_loss: 657.6143\n",
      "Epoch 16/50\n",
      "52/52 [==============================] - 0s 3ms/step - loss: 464.9349 - val_loss: 630.6317\n",
      "Epoch 17/50\n",
      "52/52 [==============================] - 0s 3ms/step - loss: 448.9475 - val_loss: 607.5416\n",
      "Epoch 18/50\n",
      "52/52 [==============================] - 0s 3ms/step - loss: 433.4034 - val_loss: 584.3427\n",
      "Epoch 19/50\n",
      "52/52 [==============================] - 0s 3ms/step - loss: 418.3135 - val_loss: 560.6708\n",
      "Epoch 20/50\n",
      "52/52 [==============================] - 0s 3ms/step - loss: 403.7939 - val_loss: 539.0351\n",
      "Epoch 21/50\n",
      "52/52 [==============================] - 0s 3ms/step - loss: 389.4697 - val_loss: 516.4949\n",
      "Epoch 22/50\n",
      "52/52 [==============================] - 0s 3ms/step - loss: 375.8569 - val_loss: 496.1516\n",
      "Epoch 23/50\n",
      "52/52 [==============================] - 0s 3ms/step - loss: 362.6858 - val_loss: 475.0157\n",
      "Epoch 24/50\n",
      "52/52 [==============================] - 0s 3ms/step - loss: 349.8425 - val_loss: 455.9529\n",
      "Epoch 25/50\n",
      "52/52 [==============================] - 0s 3ms/step - loss: 337.5309 - val_loss: 436.7685\n",
      "Epoch 26/50\n",
      "52/52 [==============================] - 0s 3ms/step - loss: 325.6981 - val_loss: 419.3430\n",
      "Epoch 27/50\n",
      "52/52 [==============================] - 0s 3ms/step - loss: 314.4600 - val_loss: 400.3967\n",
      "Epoch 28/50\n",
      "52/52 [==============================] - 0s 3ms/step - loss: 303.1057 - val_loss: 382.0401\n",
      "Epoch 29/50\n",
      "52/52 [==============================] - 0s 3ms/step - loss: 292.2727 - val_loss: 367.1058\n",
      "Epoch 30/50\n",
      "52/52 [==============================] - 0s 3ms/step - loss: 282.0162 - val_loss: 349.5180\n",
      "Epoch 31/50\n",
      "52/52 [==============================] - 0s 3ms/step - loss: 272.1383 - val_loss: 335.2282\n",
      "Epoch 32/50\n",
      "52/52 [==============================] - 0s 3ms/step - loss: 262.7667 - val_loss: 321.9722\n",
      "Epoch 33/50\n",
      "52/52 [==============================] - 0s 3ms/step - loss: 253.6218 - val_loss: 306.9171\n",
      "Epoch 34/50\n",
      "52/52 [==============================] - 0s 3ms/step - loss: 244.7357 - val_loss: 292.6289\n",
      "Epoch 35/50\n",
      "52/52 [==============================] - 0s 3ms/step - loss: 235.9155 - val_loss: 279.9506\n",
      "Epoch 36/50\n",
      "52/52 [==============================] - 0s 3ms/step - loss: 227.8391 - val_loss: 268.4780\n",
      "Epoch 37/50\n",
      "52/52 [==============================] - 0s 3ms/step - loss: 219.8263 - val_loss: 256.1596\n",
      "Epoch 38/50\n",
      "52/52 [==============================] - 0s 3ms/step - loss: 212.2801 - val_loss: 244.9048\n",
      "Epoch 39/50\n",
      "52/52 [==============================] - 0s 3ms/step - loss: 204.8490 - val_loss: 233.3625\n",
      "Epoch 40/50\n",
      "52/52 [==============================] - 0s 3ms/step - loss: 197.7935 - val_loss: 222.9164\n",
      "Epoch 41/50\n",
      "52/52 [==============================] - 0s 3ms/step - loss: 190.9390 - val_loss: 213.1429\n",
      "Epoch 42/50\n",
      "52/52 [==============================] - 0s 3ms/step - loss: 184.3006 - val_loss: 203.9026\n",
      "Epoch 43/50\n",
      "52/52 [==============================] - 0s 3ms/step - loss: 178.0249 - val_loss: 194.7158\n",
      "Epoch 44/50\n",
      "52/52 [==============================] - 0s 3ms/step - loss: 171.9484 - val_loss: 186.1108\n",
      "Epoch 45/50\n",
      "52/52 [==============================] - 0s 3ms/step - loss: 166.0592 - val_loss: 177.1697\n",
      "Epoch 46/50\n",
      "52/52 [==============================] - 0s 3ms/step - loss: 160.6931 - val_loss: 170.0253\n",
      "Epoch 47/50\n",
      "52/52 [==============================] - 0s 3ms/step - loss: 155.0466 - val_loss: 161.6860\n",
      "Epoch 48/50\n",
      "52/52 [==============================] - 0s 3ms/step - loss: 149.8723 - val_loss: 154.6171\n",
      "Epoch 49/50\n",
      "52/52 [==============================] - 0s 3ms/step - loss: 144.9212 - val_loss: 147.4787\n",
      "Epoch 50/50\n",
      "52/52 [==============================] - 0s 3ms/step - loss: 140.2268 - val_loss: 141.1740\n"
     ]
    }
   ],
   "source": [
    "history = model.fit(X_train_scaled,y_train,epochs=50,validation_split=0.1)"
   ]
  },
  {
   "cell_type": "code",
   "execution_count": 13,
   "id": "fab120fd",
   "metadata": {},
   "outputs": [
    {
     "name": "stdout",
     "output_type": "stream",
     "text": [
      "15/15 [==============================] - 0s 2ms/step\n"
     ]
    }
   ],
   "source": [
    "y_pred = model.predict(X_test_scaled)"
   ]
  },
  {
   "cell_type": "code",
   "execution_count": 16,
   "id": "fe8fc5bc",
   "metadata": {},
   "outputs": [],
   "source": [
    "from sklearn.metrics import r2_score"
   ]
  },
  {
   "cell_type": "code",
   "execution_count": 17,
   "id": "17aeb51c",
   "metadata": {},
   "outputs": [
    {
     "data": {
      "text/plain": [
       "0.7677754160604612"
      ]
     },
     "execution_count": 17,
     "metadata": {},
     "output_type": "execute_result"
    }
   ],
   "source": [
    "r2_score(y_test,y_pred)"
   ]
  },
  {
   "cell_type": "code",
   "execution_count": null,
   "id": "38a72aa5",
   "metadata": {},
   "outputs": [],
   "source": []
  }
 ],
 "metadata": {
  "kernelspec": {
   "display_name": "Python 3 (ipykernel)",
   "language": "python",
   "name": "python3"
  },
  "language_info": {
   "codemirror_mode": {
    "name": "ipython",
    "version": 3
   },
   "file_extension": ".py",
   "mimetype": "text/x-python",
   "name": "python",
   "nbconvert_exporter": "python",
   "pygments_lexer": "ipython3",
   "version": "3.11.5"
  }
 },
 "nbformat": 4,
 "nbformat_minor": 5
}
